{
 "cells": [
  {
   "cell_type": "markdown",
   "metadata": {
    "id": "M2SjMHlpbks3"
   },
   "source": [
    "# Training of Models"
   ]
  },
  {
   "cell_type": "code",
   "execution_count": null,
   "metadata": {
    "id": "_D9JdIHZbf5d"
   },
   "outputs": [],
   "source": [
    "#upgrade pip and protobuf\n",
    "!pip install --upgrade pip\n",
    "!pip install --upgrade protobuf"
   ]
  },
  {
   "cell_type": "code",
   "execution_count": null,
   "metadata": {
    "id": "YMR8lEJDbiPS"
   },
   "outputs": [],
   "source": [
    "#install tensorflow version 1.15 and numpy\n",
    "%tensorflow_version 1.15\n",
    "import tensorflow as tf\n",
    "print(tf.__version__)\n",
    "\n",
    "!pip install numpy"
   ]
  },
  {
   "cell_type": "code",
   "execution_count": null,
   "metadata": {
    "id": "A-ryEzesb7jd"
   },
   "outputs": [],
   "source": [
    "#check your GPU status\n",
    "device_name = tf.test.gpu_device_name()\n",
    "if device_name != '/device:GPU:0':\n",
    "   raise SystemError('GPU device not found')\n",
    "print('Found GPU at: {}'.format(device_name))"
   ]
  },
  {
   "cell_type": "code",
   "execution_count": null,
   "metadata": {
    "id": "zDXnhQuhcAbB"
   },
   "outputs": [],
   "source": [
    "# memory footprint support libraries/code\n",
    "!ln -sf /opt/bin/nvidia-smi /usr/bin/nvidia-smi\n",
    "!pip install gputil\n",
    "!pip install psutil\n",
    "!pip install humanize\n",
    "import psutil\n",
    "import humanize\n",
    "import os\n",
    "import GPUtil as GPU\n",
    "GPUs = GPU.getGPUs()\n",
    "# XXX: only one GPU on Colab and isn’t guaranteed\n",
    "gpu = GPUs[0]\n",
    "def printm():\n",
    " process = psutil.Process(os.getpid())\n",
    " print(\"Gen RAM Free: \" + humanize.naturalsize( psutil.virtual_memory().available ), \" | Proc size: \" + humanize.naturalsize( process.memory_info().rss))\n",
    " print(\"GPU RAM Free: {0:.0f}MB | Used: {1:.0f}MB | Util {2:3.0f}% | Total {3:.0f}MB\".format(gpu.memoryFree, gpu.memoryUsed, gpu.memoryUtil*100, gpu.memoryTotal))\n",
    "printm()"
   ]
  },
  {
   "cell_type": "code",
   "execution_count": null,
   "metadata": {
    "id": "k5qfMJZdcHne"
   },
   "outputs": [],
   "source": [
    "#mount Google Drive Folder\n",
    "from google.colab import drive\n",
    "drive.mount('/content/drive')\n",
    "\n",
    "# change to working tensorflow directory on the drive\n",
    "%cd '/content/drive/My Drive/models/'"
   ]
  },
  {
   "cell_type": "code",
   "execution_count": null,
   "metadata": {
    "id": "Fc07-Md6cPRa"
   },
   "outputs": [],
   "source": [
    "!apt-get install protobuf-compiler python-pil python-lxml python-tk\n",
    "!pip install Cython\n",
    "%cd /content/drive/My Drive/models/research/\n",
    "!protoc object_detection/protos/*.proto --python_out=.\n",
    "\n",
    "import os\n",
    "os.environ['PYTHONPATH'] += ':/content/drive/My Drive/models/research/:/content/drive/My Drive/models/research/slim'\n",
    "\n",
    "!python setup.py build\n",
    "!python setup.py install"
   ]
  },
  {
   "cell_type": "code",
   "execution_count": null,
   "metadata": {
    "id": "UKlPq8A-cU7s"
   },
   "outputs": [],
   "source": [
    "import time, psutil\n",
    "Start = time.time()- psutil.boot_time()\n",
    "Left= 12*3600 - Start\n",
    "print('Time remaining for this session is: ', Left/3600)"
   ]
  },
  {
   "cell_type": "code",
   "execution_count": null,
   "metadata": {
    "id": "YwRtmd5acZ4a"
   },
   "outputs": [],
   "source": [
    "#performing the training of models\n",
    "!pip install tf_slim\n",
    "%cd /content/drive/My Drive/models/research/Object_Detection\n",
    "os.environ['PYTHONPATH'] += ':/content/drive/My Drive/models/research/:/content/drive/My Drive/models/research/slim'\n",
    "\n",
    "\n",
    "!python legacy/train.py --train_dir=training/ --pipeline_config_path=training/faster_rcnn_inception_resnet_v2_atrous_coco.config --logtostderr"
   ]
  },
  {
   "cell_type": "code",
   "execution_count": null,
   "metadata": {},
   "outputs": [],
   "source": [
    "%reload_ext tensorboard\n",
    "%tensorboard --logdir 'training'"
   ]
  },
  {
   "cell_type": "code",
   "execution_count": null,
   "metadata": {
    "id": "TUz7mi8TcwCg"
   },
   "outputs": [],
   "source": [
    "#the XXXX is dependent on the number of steps in the config files from the pretrained model\n",
    "!python export_inference_graph.py --input_type image_tensor --pipeline_config_path training/faster_rcnn_inception_resnet_v2_atrous_coco.config --trained_checkpoint_prefix training/model.ckpt-XXXX --output_directory faster_new_graph"
   ]
  },
  {
   "cell_type": "code",
   "execution_count": null,
   "metadata": {
    "id": "lqnIZysidREK"
   },
   "outputs": [],
   "source": [
    "#converting the model graph to a zip folder before downloading\n",
    "!zip -r faster_model_graph.zip faster_new_graph"
   ]
  },
  {
   "cell_type": "code",
   "execution_count": null,
   "metadata": {
    "id": "6WRRWlZ8dQtv"
   },
   "outputs": [],
   "source": []
  }
 ],
 "metadata": {
  "colab": {
   "authorship_tag": "ABX9TyOoQLG/eJu2hH8PmCxlf+A1",
   "collapsed_sections": [],
   "name": "Training Model.ipynb",
   "provenance": []
  },
  "kernelspec": {
   "display_name": "Python 3",
   "language": "python",
   "name": "python3"
  },
  "language_info": {
   "codemirror_mode": {
    "name": "ipython",
    "version": 3
   },
   "file_extension": ".py",
   "mimetype": "text/x-python",
   "name": "python",
   "nbconvert_exporter": "python",
   "pygments_lexer": "ipython3",
   "version": "3.8.3"
  }
 },
 "nbformat": 4,
 "nbformat_minor": 1
}
