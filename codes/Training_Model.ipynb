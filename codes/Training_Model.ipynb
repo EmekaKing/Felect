{
 "cells": [
  {
   "cell_type": "markdown",
   "metadata": {},
   "source": [
    "# Project: Fault Monitoring and Inspection for Electric Utilities"
   ]
  },
  {
   "cell_type": "markdown",
   "metadata": {},
   "source": [
    "## Description:\n",
    "\n",
    "- The task is *`to showcase the possibility of detecting and inspecting EPTN assets of Electric Utilities in Nigeria utilizing UAV imagery and deep learning approach.`* \n",
    "\n",
    "- The main application of this dataset is that the continuous inspection of transmission components provides a lot of information about the state of the network. This can help us potentially monitor faults on transmission lines, monitor assets state, and optimize EPTN for Transmission companies using deep learning, and if any discrepancy is found, actions can be taken quickly to diagnose that.<p/>"
   ]
  },
  {
   "cell_type": "markdown",
   "metadata": {},
   "source": [
    "# Introduction\n",
    "- GPU: Tesla K80 GPU of about 12GB\n",
    "- Runtime is limited to 12 hours.\n",
    "- https://colab.research.google.com\n",
    "- https://colab.research.google.com/notebooks/welcome.ipynb\n",
    "## Tensorflow Object Detection\n",
    "- https://github.com/tensorflow/models/tree/master/research/object_detection"
   ]
  },
  {
   "cell_type": "markdown",
   "metadata": {},
   "source": [
    "### Mounting Google Drive to Colab"
   ]
  },
  {
   "cell_type": "code",
   "execution_count": null,
   "metadata": {
    "id": "k5qfMJZdcHne"
   },
   "outputs": [],
   "source": [
    "#mount Google Drive Folder\n",
    "from google.colab import drive\n",
    "drive.mount('/content/drive')\n",
    "\n",
    "# change to working tensorflow directory on the drive\n",
    "%cd '/content/drive/My Drive/Colab/models/'"
   ]
  },
  {
   "cell_type": "markdown",
   "metadata": {},
   "source": [
    "### Clone from github repo the Tensorflow models (tf version 1.15)"
   ]
  },
  {
   "cell_type": "code",
   "execution_count": null,
   "metadata": {},
   "outputs": [],
   "source": [
    "!git clone --q https://github.com/tensorflow/models.git"
   ]
  },
  {
   "cell_type": "markdown",
   "metadata": {
    "id": "M2SjMHlpbks3"
   },
   "source": [
    "# Training of Models"
   ]
  },
  {
   "cell_type": "code",
   "execution_count": null,
   "metadata": {
    "id": "_D9JdIHZbf5d"
   },
   "outputs": [],
   "source": [
    "#upgrade pip and protobuf\n",
    "!pip install --upgrade pip\n",
    "!pip install --upgrade protobuf"
   ]
  },
  {
   "cell_type": "markdown",
   "metadata": {},
   "source": [
    "### Setting tensorflow version 1.x"
   ]
  },
  {
   "cell_type": "code",
   "execution_count": null,
   "metadata": {
    "id": "YMR8lEJDbiPS"
   },
   "outputs": [],
   "source": [
    "#install tensorflow version 1.15 and numpy\n",
    "%tensorflow_version 1.15\n",
    "import tensorflow as tf\n",
    "print(tf.__version__)\n",
    "\n",
    "!pip install numpy"
   ]
  },
  {
   "cell_type": "code",
   "execution_count": null,
   "metadata": {
    "id": "A-ryEzesb7jd"
   },
   "outputs": [],
   "source": [
    "#check your GPU status\n",
    "device_name = tf.test.gpu_device_name()\n",
    "if device_name != '/device:GPU:0':\n",
    "   raise SystemError('GPU device not found')\n",
    "print('Found GPU at: {}'.format(device_name))"
   ]
  },
  {
   "cell_type": "code",
   "execution_count": null,
   "metadata": {
    "id": "zDXnhQuhcAbB"
   },
   "outputs": [],
   "source": [
    "# memory footprint support libraries/code\n",
    "!ln -sf /opt/bin/nvidia-smi /usr/bin/nvidia-smi\n",
    "!pip install gputil\n",
    "!pip install psutil\n",
    "!pip install humanize\n",
    "import psutil\n",
    "import humanize\n",
    "import os\n",
    "import GPUtil as GPU\n",
    "GPUs = GPU.getGPUs()\n",
    "# XXX: only one GPU on Colab and isn’t guaranteed\n",
    "gpu = GPUs[0]\n",
    "def printm():\n",
    " process = psutil.Process(os.getpid())\n",
    " print(\"Gen RAM Free: \" + humanize.naturalsize( psutil.virtual_memory().available ), \" | Proc size: \" + humanize.naturalsize( process.memory_info().rss))\n",
    " print(\"GPU RAM Free: {0:.0f}MB | Used: {1:.0f}MB | Util {2:3.0f}% | Total {3:.0f}MB\".format(gpu.memoryFree, gpu.memoryUsed, gpu.memoryUtil*100, gpu.memoryTotal))\n",
    "printm()"
   ]
  },
  {
   "cell_type": "markdown",
   "metadata": {},
   "source": [
    "### Import libraries, Create a Python path, and build and install Tensorflow object detection model "
   ]
  },
  {
   "cell_type": "code",
   "execution_count": null,
   "metadata": {
    "id": "Fc07-Md6cPRa"
   },
   "outputs": [],
   "source": [
    "!apt-get install protobuf-compiler python-pil python-lxml python-tk\n",
    "!pip install Cython\n",
    "%cd /content/drive/My Drive/Colab/models/research/\n",
    "!protoc object_detection/protos/*.proto --python_out=.\n",
    "\n",
    "import os\n",
    "os.environ['PYTHONPATH'] += ':/content/drive/My Drive/Colab/models/research/:/content/drive/My Drive/Colab/models/research/slim'\n",
    "\n",
    "!python setup.py build\n",
    "!python setup.py install"
   ]
  },
  {
   "cell_type": "code",
   "execution_count": null,
   "metadata": {},
   "outputs": [],
   "source": [
    "#!python object_detection/builders/model_builder_test.py"
   ]
  },
  {
   "cell_type": "code",
   "execution_count": null,
   "metadata": {
    "id": "YwRtmd5acZ4a"
   },
   "outputs": [],
   "source": [
    "#performing the training of models\n",
    "!pip install tf_slim\n",
    "%cd /content/drive/My Drive/models/research/Object_Detection\n",
    "os.environ['PYTHONPATH'] += ':/content/drive/My Drive/Colab/models/research/:/content/drive/My Drive/models/research/slim'"
   ]
  },
  {
   "cell_type": "markdown",
   "metadata": {},
   "source": [
    "### Time Configuration"
   ]
  },
  {
   "cell_type": "code",
   "execution_count": null,
   "metadata": {
    "id": "UKlPq8A-cU7s"
   },
   "outputs": [],
   "source": [
    "import time, psutil\n",
    "Start = time.time()- psutil.boot_time()\n",
    "Left= 12*3600 - Start\n",
    "print('Time remaining for this session is: ', Left/3600)"
   ]
  },
  {
   "cell_type": "markdown",
   "metadata": {},
   "source": [
    "### Config models to use"
   ]
  },
  {
   "cell_type": "code",
   "execution_count": null,
   "metadata": {},
   "outputs": [],
   "source": [
    "MODELS_CONFIG = {\n",
    "    'ssd_mobnet_v1': {\n",
    "        'model_name': 'ssd_mobilenet_v1_coco_2018_03_29',\n",
    "        'pipeline_file': 'ssd_mobilenet_v1_fpn_shared_box_predictor_640x640_coco14_sync.config',\n",
    "    },\n",
    "    'ssd_rest50_v1': {\n",
    "        'model_name': 'ssd_resnet50_v1_coco_2018_01_28',\n",
    "        'pipeline_file': 'ssd_resnet50_v1_fpn_shared_box_predictor_640x640_coco14_sync.config',\n",
    "    }\n",
    "    'ssd_rest101_v1': {\n",
    "        'model_name': 'ssd_resnet101_v1_oid_2018_01_28',\n",
    "        'pipeline_file': 'ssd_resnet101_v1_fpn_shared_box_predictor_oid_640x640_sync.config',\n",
    "    }\n",
    "}\n",
    "\n",
    "selected_model = 'ssd_mobnet_v1'"
   ]
  },
  {
   "cell_type": "markdown",
   "metadata": {},
   "source": [
    "### Download pretrained model"
   ]
  },
  {
   "cell_type": "code",
   "execution_count": null,
   "metadata": {},
   "outputs": [],
   "source": [
    "%cd /content/drive/My Drive/models/research\n",
    "\n",
    "MODEL = MODELS_CONFIG[selected_model]['model_name']\n",
    "\n",
    "pipeline_file = MODELS_CONFIG[selected_model]['pipeline_file']\n",
    "\n",
    "MODEL_FILE = MODEL + '.tar.gz'\n",
    "DOWNLOAD_BASE = 'http://download.tensorflow.org/models/object_detection/'\n",
    "\n",
    "fine_tune_dir = '/content/drive/My Drive/Colab/models/research/pretrained_model'\n",
    "\n",
    "if not (os.path.exists(MODEL_FILE)):\n",
    "    urllib.request.urlretrieve(DOWNLOAD_BASE + MODEL_FILE, MODEL_FILE)\n",
    "\n",
    "tar = tarfile.open(MODEL_FILE)\n",
    "tar.extractall()\n",
    "tar.close()\n",
    "\n",
    "os.remove(MODEL_FILE)\n",
    "if (os.path.exists(fine_tune_dir)):\n",
    "    shutil.rmtree(fine_tune_dir)\n",
    "os.rename(MODEL, fine_tune_dir)"
   ]
  },
  {
   "cell_type": "markdown",
   "metadata": {},
   "source": [
    "### Setting Tensorboard"
   ]
  },
  {
   "cell_type": "code",
   "execution_count": null,
   "metadata": {},
   "outputs": [],
   "source": [
    "!wget https://bin.equinox.io/c/4VmDzA7iaHb/ngrok-stable-linux-amd64.zip\n",
    "!unzip -o ngrok-stable-linux-amd64.zip"
   ]
  },
  {
   "cell_type": "code",
   "execution_count": null,
   "metadata": {},
   "outputs": [],
   "source": [
    "LOG_DIR = model_dir\n",
    "get_ipython().system_raw(\n",
    "    'tensorboard --logdir {} --host 0.0.0.0 --port 6006 &'\n",
    "    .format(LOG_DIR)\n",
    ")\n",
    "get_ipython().system_raw('./ngrok http 6006 &')"
   ]
  },
  {
   "cell_type": "code",
   "execution_count": null,
   "metadata": {},
   "outputs": [],
   "source": [
    "%reload_ext tensorboard\n",
    "%tensorboard --logdir 'training'"
   ]
  },
  {
   "cell_type": "markdown",
   "metadata": {},
   "source": [
    "### Train the model"
   ]
  },
  {
   "cell_type": "code",
   "execution_count": null,
   "metadata": {},
   "outputs": [],
   "source": [
    "#ssd_resnet50_v1_fpn_shared_box_predictor_640x640_coco14_sync.config\n",
    "#ssd_resnet101_v1_fpn_shared_box_predictor_oid_640x640_sync.config\n",
    "#ssd_mobilenet_v1_fpn_shared_box_predictor_640x640_coco14_sync.config\n",
    "!python legacy/train.py --train_dir=training/ --pipeline_config_path=training/ssd_resnet50_v1_fpn_shared_box_predictor_640x640_coco14_sync.config --logtostderr"
   ]
  },
  {
   "cell_type": "markdown",
   "metadata": {},
   "source": [
    "OR"
   ]
  },
  {
   "cell_type": "code",
   "execution_count": null,
   "metadata": {},
   "outputs": [],
   "source": [
    "!python /content/drive/My Drive/Colab/models/research/object_detection/model_main.py \\\n",
    "    --pipeline_config_path={model_path}\\\n",
    "    --model_dir={model_dir} \\\n",
    "    --alsologtostderr \\"
   ]
  },
  {
   "cell_type": "markdown",
   "metadata": {},
   "source": [
    "### Export Inference Graph"
   ]
  },
  {
   "cell_type": "code",
   "execution_count": null,
   "metadata": {},
   "outputs": [],
   "source": [
    "#the location where the exported model will be saved in.\n",
    "output_directory = '/content/drive/My Drive/Colab/models/research/fine_tuned_model'\n",
    "\n",
    "# goes through the model is the training/ dir and gets the last one.\n",
    "# you could choose a specfic one instead of the last\n",
    "lst = os.listdir(model_dir)\n",
    "lst = [l for l in lst if 'model.ckpt-' in l and '.meta' in l]\n",
    "steps=np.array([int(re.findall('\\d+', l)[0]) for l in lst])\n",
    "last_model = lst[steps.argmax()].replace('.meta', '')\n",
    "last_model_path = os.path.join(model_dir, last_model)\n",
    "print(last_model_path)\n",
    "\n",
    "!python /content/drive/My Drive/Colab/models/research/object_detection/export_inference_graph.py \\\n",
    "    --input_type=image_tensor \\\n",
    "    --pipeline_config_path={model_path} \\\n",
    "    --output_directory={output_directory} \\\n",
    "    --trained_checkpoint_prefix={last_model_path}"
   ]
  },
  {
   "cell_type": "markdown",
   "metadata": {},
   "source": [
    "<p align = \"center\"> OR </p>"
   ]
  },
  {
   "cell_type": "code",
   "execution_count": null,
   "metadata": {
    "id": "TUz7mi8TcwCg"
   },
   "outputs": [],
   "source": [
    "#the XXXX is dependent on the number of steps in the config files from the pretrained model\n",
    "!python export_inference_graph.py --input_type image_tensor --pipeline_config_path training/ssd_resnet50_v1_fpn_shared_box_predictor_640x640_coco14_sync.config --trained_checkpoint_prefix training/model.ckpt-XXXX --output_directory ssdrest50_new_graph"
   ]
  },
  {
   "cell_type": "markdown",
   "metadata": {},
   "source": [
    "### Downloads the frozen model for inference"
   ]
  },
  {
   "cell_type": "code",
   "execution_count": null,
   "metadata": {},
   "outputs": [],
   "source": [
    "from google.colab import files\n",
    "files.download(output_directory + '/frozen_inference_graph.pb')"
   ]
  },
  {
   "cell_type": "code",
   "execution_count": null,
   "metadata": {
    "id": "lqnIZysidREK"
   },
   "outputs": [],
   "source": [
    "#converting the model graph to a zip folder before downloading\n",
    "!zip -r ssdrest50_model_graph.zip ssdrest50_new_graph"
   ]
  },
  {
   "cell_type": "code",
   "execution_count": null,
   "metadata": {
    "id": "6WRRWlZ8dQtv"
   },
   "outputs": [],
   "source": []
  },
  {
   "cell_type": "code",
   "execution_count": null,
   "metadata": {},
   "outputs": [],
   "source": [
    "import numpy as np\n",
    "import os\n",
    "%tensorflow_version 1.x\n",
    "import tensorflow as tf\n",
    "import cv2\n",
    "from object_detection.utils import label_map_util\n",
    "from object_detection.utils import visualization_utils as vis_util\n",
    "from google.colab.patches import cv2_imshow\n",
    "\n",
    "# path to the frozen graph:\n",
    "PATH_TO_FROZEN_GRAPH = '/content/drive/My Drive/Colab/models/research/fine_tuned_model/frozen_inference_graph.pb'\n",
    "\n",
    "# path to the label map\n",
    "PATH_TO_LABEL_MAP = 'content/drive/My Drive/Colab/models/data/labelmap.pbtxt'\n",
    "\n",
    "PATH_TO_IMAGE = \"/content/gdrive/My Drive/Colab/models/images/test/000028.jpg\"\n",
    "\n",
    "# number of classes \n",
    "NUM_CLASSES = 2\n",
    "\n",
    "\n",
    "label_map = label_map_util.load_labelmap(PATH_TO_LABEL_MAP)\n",
    "categories = label_map_util.convert_label_map_to_categories(label_map, max_num_classes=NUM_CLASSES, use_display_name=True)\n",
    "category_index = label_map_util.create_category_index(categories)\n",
    "\n",
    "detection_graph = tf.Graph()\n",
    "with detection_graph.as_default():\n",
    "    od_graph_def = tf.GraphDef()\n",
    "    with tf.gfile.GFile(PATH_TO_FROZEN_GRAPH, 'rb') as fid:\n",
    "        serialized_graph = fid.read()\n",
    "        od_graph_def.ParseFromString(serialized_graph)\n",
    "        tf.import_graph_def(od_graph_def, name='')\n",
    "\n",
    "    sess = tf.Session(graph=detection_graph)\n",
    "\n",
    "\n",
    "image_tensor = detection_graph.get_tensor_by_name('image_tensor:0')\n",
    "\n",
    "# Output tensors are the detection boxes, scores, and classes\n",
    "# Each box represents a part of the image where a particular object was detected\n",
    "detection_boxes = detection_graph.get_tensor_by_name('detection_boxes:0')\n",
    "\n",
    "# Each score represents level of confidence for each of the objects.\n",
    "# The score is shown on the result image, together with the class label.\n",
    "detection_scores = detection_graph.get_tensor_by_name('detection_scores:0')\n",
    "detection_classes = detection_graph.get_tensor_by_name('detection_classes:0')\n",
    "\n",
    "# Number of objects detected\n",
    "num_detections = detection_graph.get_tensor_by_name('num_detections:0')\n",
    "\n",
    "# Load image using OpenCV and\n",
    "# expand image dimensions to have shape: [1, None, None, 3]\n",
    "# i.e. a single-column array, where each item in the column has the pixel RGB value\n",
    "image = cv2.imread(PATH_TO_IMAGE)\n",
    "image_expanded = np.expand_dims(image, axis=0)\n",
    "\n",
    "# Perform the actual detection by running the model with the image as input\n",
    "(boxes, scores, classes, num) = sess.run(\n",
    "    [detection_boxes, detection_scores, detection_classes, num_detections],\n",
    "    feed_dict={image_tensor: image_expanded})\n",
    "\n",
    "# Draw the results of the detection (aka 'visulaize the results')\n",
    "\n",
    "vis_util.visualize_boxes_and_labels_on_image_array(\n",
    "    image,\n",
    "    np.squeeze(boxes),\n",
    "    np.squeeze(classes).astype(np.int32),\n",
    "    np.squeeze(scores),\n",
    "    category_index,\n",
    "    use_normalized_coordinates=True,\n",
    "    line_thickness=8,\n",
    "    min_score_thresh=0.80)\n",
    "\n",
    "# All the results have been drawn on image. Now display the image.\n",
    "cv2_imshow(image)\n",
    "filename = \"/content/gdrive/My Drive/Colab/models/images/tested_ssd_mobilenet_v2_coco/tl_tested_inference_5.jpg\"\n",
    "cv2.imwrite(filename, image)\n",
    "\n",
    "# Press any key to close the image\n",
    "cv2.waitKey(0)\n",
    "\n",
    "# Clean up\n",
    "cv2.destroyAllWindows()\n"
   ]
  },
  {
   "cell_type": "code",
   "execution_count": null,
   "metadata": {},
   "outputs": [],
   "source": [
    "%matplotlib inline\n",
    "import matplotlib.pyplot as plt\n",
    "\n",
    "IMAGE_SIZE = (12, 8)\n",
    "\n",
    "plt.figure(figsize=IMAGE_SIZE)\n",
    "plt.imshow(image)"
   ]
  }
 ],
 "metadata": {
  "colab": {
   "authorship_tag": "ABX9TyOoQLG/eJu2hH8PmCxlf+A1",
   "collapsed_sections": [],
   "name": "Training Model.ipynb",
   "provenance": []
  },
  "kernelspec": {
   "display_name": "Python 3",
   "language": "python",
   "name": "python3"
  },
  "language_info": {
   "codemirror_mode": {
    "name": "ipython",
    "version": 3
   },
   "file_extension": ".py",
   "mimetype": "text/x-python",
   "name": "python",
   "nbconvert_exporter": "python",
   "pygments_lexer": "ipython3",
   "version": "3.8.3"
  }
 },
 "nbformat": 4,
 "nbformat_minor": 1
}
